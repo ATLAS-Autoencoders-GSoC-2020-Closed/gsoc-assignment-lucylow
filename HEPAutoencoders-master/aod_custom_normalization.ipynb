{
 "cells": [
  {
   "cell_type": "code",
   "execution_count": 1,
   "metadata": {},
   "outputs": [],
   "source": [
    "%matplotlib inline\n",
    "import sys\n",
    "BIN = ''\n",
    "sys.path.append(BIN)\n",
    "import numpy as np\n",
    "import pandas as pd\n",
    "import matplotlib.pyplot as plt\n",
    "\n",
    "import torch\n",
    "import torch.nn as nn\n",
    "import torch.optim as optim\n",
    "import torch.utils.data\n",
    "from torch.autograd import Variable\n",
    "\n",
    "from torch.utils.data import TensorDataset\n",
    "from torch.utils.data import DataLoader\n",
    "\n",
    "import my_matplotlib_style as ms\n",
    "import matplotlib as mpl\n",
    "mpl.rc_file(BIN + 'my_matplotlib_rcparams')\n",
    "\n",
    "from fastai import data_block, basic_train, basic_data\n",
    "import fastai\n",
    "\n",
    "import utils"
   ]
  },
  {
   "cell_type": "code",
   "execution_count": 2,
   "metadata": {},
   "outputs": [],
   "source": [
    "from nn_utils import AE_basic, AE_bn, AE_LeakyReLU, AE_bn_LeakyReLU"
   ]
  },
  {
   "cell_type": "code",
   "execution_count": 3,
   "metadata": {},
   "outputs": [
    {
     "ename": "FileNotFoundError",
     "evalue": "[Errno 2] No such file or directory: 'processed_data/aod/all_jets_partial_train_10percent.pkl'",
     "output_type": "error",
     "traceback": [
      "\u001b[0;31m---------------------------------------------------------------------------\u001b[0m",
      "\u001b[0;31mFileNotFoundError\u001b[0m                         Traceback (most recent call last)",
      "\u001b[0;32m<ipython-input-3-99f94c347775>\u001b[0m in \u001b[0;36m<module>\u001b[0;34m\u001b[0m\n\u001b[1;32m      9\u001b[0m \u001b[0;31m#test = pd.read_pickle(BIN + 'processed_data/aod/all_jets_partial_test.pkl')\u001b[0m\u001b[0;34m\u001b[0m\u001b[0;34m\u001b[0m\u001b[0;34m\u001b[0m\u001b[0m\n\u001b[1;32m     10\u001b[0m \u001b[0;34m\u001b[0m\u001b[0m\n\u001b[0;32m---> 11\u001b[0;31m \u001b[0mtrain\u001b[0m \u001b[0;34m=\u001b[0m \u001b[0mpd\u001b[0m\u001b[0;34m.\u001b[0m\u001b[0mread_pickle\u001b[0m\u001b[0;34m(\u001b[0m\u001b[0mBIN\u001b[0m \u001b[0;34m+\u001b[0m \u001b[0;34m'processed_data/aod/all_jets_partial_train_10percent.pkl'\u001b[0m\u001b[0;34m)\u001b[0m\u001b[0;34m\u001b[0m\u001b[0;34m\u001b[0m\u001b[0m\n\u001b[0m\u001b[1;32m     12\u001b[0m \u001b[0moriginal_train_shape\u001b[0m \u001b[0;34m=\u001b[0m \u001b[0mtrain\u001b[0m\u001b[0;34m.\u001b[0m\u001b[0mshape\u001b[0m\u001b[0;34m\u001b[0m\u001b[0;34m\u001b[0m\u001b[0m\n\u001b[1;32m     13\u001b[0m \u001b[0mprint\u001b[0m\u001b[0;34m(\u001b[0m\u001b[0;34m'Original train.shape:'\u001b[0m\u001b[0;34m,\u001b[0m \u001b[0moriginal_train_shape\u001b[0m\u001b[0;34m)\u001b[0m\u001b[0;34m\u001b[0m\u001b[0;34m\u001b[0m\u001b[0m\n",
      "\u001b[0;32m/usr/local/lib/python3.7/site-packages/pandas/io/pickle.py\u001b[0m in \u001b[0;36mread_pickle\u001b[0;34m(filepath_or_buffer, compression)\u001b[0m\n\u001b[1;32m    168\u001b[0m     \u001b[0;32mif\u001b[0m \u001b[0;32mnot\u001b[0m \u001b[0misinstance\u001b[0m\u001b[0;34m(\u001b[0m\u001b[0mfp_or_buf\u001b[0m\u001b[0;34m,\u001b[0m \u001b[0mstr\u001b[0m\u001b[0;34m)\u001b[0m \u001b[0;32mand\u001b[0m \u001b[0mcompression\u001b[0m \u001b[0;34m==\u001b[0m \u001b[0;34m\"infer\"\u001b[0m\u001b[0;34m:\u001b[0m\u001b[0;34m\u001b[0m\u001b[0;34m\u001b[0m\u001b[0m\n\u001b[1;32m    169\u001b[0m         \u001b[0mcompression\u001b[0m \u001b[0;34m=\u001b[0m \u001b[0;32mNone\u001b[0m\u001b[0;34m\u001b[0m\u001b[0;34m\u001b[0m\u001b[0m\n\u001b[0;32m--> 170\u001b[0;31m     \u001b[0mf\u001b[0m\u001b[0;34m,\u001b[0m \u001b[0mfh\u001b[0m \u001b[0;34m=\u001b[0m \u001b[0mget_handle\u001b[0m\u001b[0;34m(\u001b[0m\u001b[0mfp_or_buf\u001b[0m\u001b[0;34m,\u001b[0m \u001b[0;34m\"rb\"\u001b[0m\u001b[0;34m,\u001b[0m \u001b[0mcompression\u001b[0m\u001b[0;34m=\u001b[0m\u001b[0mcompression\u001b[0m\u001b[0;34m,\u001b[0m \u001b[0mis_text\u001b[0m\u001b[0;34m=\u001b[0m\u001b[0;32mFalse\u001b[0m\u001b[0;34m)\u001b[0m\u001b[0;34m\u001b[0m\u001b[0;34m\u001b[0m\u001b[0m\n\u001b[0m\u001b[1;32m    171\u001b[0m \u001b[0;34m\u001b[0m\u001b[0m\n\u001b[1;32m    172\u001b[0m     \u001b[0;31m# 1) try standard library Pickle\u001b[0m\u001b[0;34m\u001b[0m\u001b[0;34m\u001b[0m\u001b[0;34m\u001b[0m\u001b[0m\n",
      "\u001b[0;32m/usr/local/lib/python3.7/site-packages/pandas/io/common.py\u001b[0m in \u001b[0;36mget_handle\u001b[0;34m(path_or_buf, mode, encoding, compression, memory_map, is_text)\u001b[0m\n\u001b[1;32m    432\u001b[0m         \u001b[0;32melse\u001b[0m\u001b[0;34m:\u001b[0m\u001b[0;34m\u001b[0m\u001b[0;34m\u001b[0m\u001b[0m\n\u001b[1;32m    433\u001b[0m             \u001b[0;31m# Binary mode\u001b[0m\u001b[0;34m\u001b[0m\u001b[0;34m\u001b[0m\u001b[0;34m\u001b[0m\u001b[0m\n\u001b[0;32m--> 434\u001b[0;31m             \u001b[0mf\u001b[0m \u001b[0;34m=\u001b[0m \u001b[0mopen\u001b[0m\u001b[0;34m(\u001b[0m\u001b[0mpath_or_buf\u001b[0m\u001b[0;34m,\u001b[0m \u001b[0mmode\u001b[0m\u001b[0;34m)\u001b[0m\u001b[0;34m\u001b[0m\u001b[0;34m\u001b[0m\u001b[0m\n\u001b[0m\u001b[1;32m    435\u001b[0m         \u001b[0mhandles\u001b[0m\u001b[0;34m.\u001b[0m\u001b[0mappend\u001b[0m\u001b[0;34m(\u001b[0m\u001b[0mf\u001b[0m\u001b[0;34m)\u001b[0m\u001b[0;34m\u001b[0m\u001b[0;34m\u001b[0m\u001b[0m\n\u001b[1;32m    436\u001b[0m \u001b[0;34m\u001b[0m\u001b[0m\n",
      "\u001b[0;31mFileNotFoundError\u001b[0m: [Errno 2] No such file or directory: 'processed_data/aod/all_jets_partial_train_10percent.pkl'"
     ]
    }
   ],
   "source": [
    "# Load data\n",
    "#train = pd.read_pickle(BIN + 'processed_data/aod/partial_train.pkl')\n",
    "#test = pd.read_pickle(BIN + 'processed_data/aod/partial_test.pkl')\n",
    "\n",
    "#train = pd.read_pickle(BIN + 'processed_data/aod/full_train.pkl')\n",
    "#test = pd.read_pickle(BIN + 'processed_data/aod/full_test.pkl')\n",
    "\n",
    "#train = pd.read_pickle(BIN + 'processed_data/aod/all_jets_partial_train.pkl')\n",
    "#test = pd.read_pickle(BIN + 'processed_data/aod/all_jets_partial_test.pkl')\n",
    "\n",
    "train = pd.read_pickle(BIN + 'processed_data/aod/all_jets_partial_train_10percent.pkl')\n",
    "original_train_shape = train.shape\n",
    "print('Original train.shape:', original_train_shape)\n",
    "test = pd.read_pickle(BIN + 'processed_data/aod/all_jets_partial_test_10percent.pkl')\n",
    "\n",
    "#train = pd.read_pickle(BIN + 'processed_data/aod/all_jets_full_train.pkl')\n",
    "#test = pd.read_pickle(BIN + 'processed_data/aod/all_jets_full_test.pkl')"
   ]
  },
  {
   "cell_type": "code",
   "execution_count": null,
   "metadata": {},
   "outputs": [],
   "source": [
    "# Remove extreme/bad jets\n",
    "train = utils.filter_jets(train)\n",
    "test = utils.filter_jets(test)"
   ]
  },
  {
   "cell_type": "code",
   "execution_count": null,
   "metadata": {},
   "outputs": [],
   "source": [
    "train.shape"
   ]
  },
  {
   "cell_type": "code",
   "execution_count": null,
   "metadata": {},
   "outputs": [],
   "source": [
    "print('Number of jets excluded:')\n",
    "(original_train_shape[0] - train.shape[0])"
   ]
  },
  {
   "cell_type": "code",
   "execution_count": null,
   "metadata": {},
   "outputs": [],
   "source": [
    "# Some jets appear to have zero mass...\n",
    "np.sum(train['m']==0)"
   ]
  },
  {
   "cell_type": "code",
   "execution_count": null,
   "metadata": {},
   "outputs": [],
   "source": [
    "len(train.keys())"
   ]
  },
  {
   "cell_type": "code",
   "execution_count": 11,
   "metadata": {},
   "outputs": [
    {
     "data": {
      "text/html": [
       "<div>\n",
       "<style scoped>\n",
       "    .dataframe tbody tr th:only-of-type {\n",
       "        vertical-align: middle;\n",
       "    }\n",
       "\n",
       "    .dataframe tbody tr th {\n",
       "        vertical-align: top;\n",
       "    }\n",
       "\n",
       "    .dataframe thead th {\n",
       "        text-align: right;\n",
       "    }\n",
       "</style>\n",
       "<table border=\"1\" class=\"dataframe\">\n",
       "  <thead>\n",
       "    <tr style=\"text-align: right;\">\n",
       "      <th></th>\n",
       "      <th>pt</th>\n",
       "      <th>eta</th>\n",
       "      <th>phi</th>\n",
       "      <th>m</th>\n",
       "      <th>ActiveArea</th>\n",
       "      <th>ActiveArea4vec_eta</th>\n",
       "      <th>ActiveArea4vec_m</th>\n",
       "      <th>ActiveArea4vec_phi</th>\n",
       "      <th>ActiveArea4vec_pt</th>\n",
       "      <th>AverageLArQF</th>\n",
       "      <th>...</th>\n",
       "      <th>LeadingClusterCenterLambda</th>\n",
       "      <th>LeadingClusterPt</th>\n",
       "      <th>LeadingClusterSecondLambda</th>\n",
       "      <th>LeadingClusterSecondR</th>\n",
       "      <th>N90Constituents</th>\n",
       "      <th>EMFrac</th>\n",
       "      <th>HECFrac</th>\n",
       "      <th>Timing</th>\n",
       "      <th>OotFracClusters10</th>\n",
       "      <th>OotFracClusters5</th>\n",
       "    </tr>\n",
       "  </thead>\n",
       "  <tbody>\n",
       "    <tr>\n",
       "      <th>0</th>\n",
       "      <td>99.859094</td>\n",
       "      <td>-0.342858</td>\n",
       "      <td>2.134567</td>\n",
       "      <td>8.093726</td>\n",
       "      <td>0.478719</td>\n",
       "      <td>-0.353398</td>\n",
       "      <td>0.132767</td>\n",
       "      <td>2.131208</td>\n",
       "      <td>0.469330</td>\n",
       "      <td>108.751984</td>\n",
       "      <td>...</td>\n",
       "      <td>1264.798706</td>\n",
       "      <td>25.836232</td>\n",
       "      <td>343.890344</td>\n",
       "      <td>43.809391</td>\n",
       "      <td>5.0</td>\n",
       "      <td>0.612864</td>\n",
       "      <td>0.000000</td>\n",
       "      <td>0.864557</td>\n",
       "      <td>0.007613</td>\n",
       "      <td>0.017692</td>\n",
       "    </tr>\n",
       "    <tr>\n",
       "      <th>1</th>\n",
       "      <td>45.352539</td>\n",
       "      <td>-0.454986</td>\n",
       "      <td>-2.667796</td>\n",
       "      <td>6.373730</td>\n",
       "      <td>0.498666</td>\n",
       "      <td>-0.469833</td>\n",
       "      <td>0.140288</td>\n",
       "      <td>-2.671408</td>\n",
       "      <td>0.489406</td>\n",
       "      <td>837.354065</td>\n",
       "      <td>...</td>\n",
       "      <td>1027.079468</td>\n",
       "      <td>19.099195</td>\n",
       "      <td>54.438531</td>\n",
       "      <td>72.658773</td>\n",
       "      <td>6.0</td>\n",
       "      <td>0.509103</td>\n",
       "      <td>0.000000</td>\n",
       "      <td>11.380662</td>\n",
       "      <td>0.495797</td>\n",
       "      <td>0.590913</td>\n",
       "    </tr>\n",
       "    <tr>\n",
       "      <th>2</th>\n",
       "      <td>26.483807</td>\n",
       "      <td>1.440664</td>\n",
       "      <td>1.628155</td>\n",
       "      <td>5.337418</td>\n",
       "      <td>0.538559</td>\n",
       "      <td>1.447917</td>\n",
       "      <td>0.156741</td>\n",
       "      <td>1.641177</td>\n",
       "      <td>0.527291</td>\n",
       "      <td>293.155884</td>\n",
       "      <td>...</td>\n",
       "      <td>95.400406</td>\n",
       "      <td>4.939110</td>\n",
       "      <td>2.175471</td>\n",
       "      <td>5.361905</td>\n",
       "      <td>5.0</td>\n",
       "      <td>0.401359</td>\n",
       "      <td>0.000000</td>\n",
       "      <td>1.700485</td>\n",
       "      <td>0.188751</td>\n",
       "      <td>0.188751</td>\n",
       "    </tr>\n",
       "    <tr>\n",
       "      <th>3</th>\n",
       "      <td>21.745404</td>\n",
       "      <td>-0.112350</td>\n",
       "      <td>-2.588387</td>\n",
       "      <td>4.982306</td>\n",
       "      <td>0.448799</td>\n",
       "      <td>-0.128731</td>\n",
       "      <td>0.126130</td>\n",
       "      <td>-2.650139</td>\n",
       "      <td>0.442389</td>\n",
       "      <td>263.850281</td>\n",
       "      <td>...</td>\n",
       "      <td>84.082619</td>\n",
       "      <td>10.380062</td>\n",
       "      <td>20.607902</td>\n",
       "      <td>6.131678</td>\n",
       "      <td>8.0</td>\n",
       "      <td>0.863900</td>\n",
       "      <td>0.000000</td>\n",
       "      <td>1.283107</td>\n",
       "      <td>0.090132</td>\n",
       "      <td>0.145812</td>\n",
       "    </tr>\n",
       "    <tr>\n",
       "      <th>4</th>\n",
       "      <td>87.560859</td>\n",
       "      <td>-2.752789</td>\n",
       "      <td>-2.295353</td>\n",
       "      <td>16.907717</td>\n",
       "      <td>0.518612</td>\n",
       "      <td>-2.782047</td>\n",
       "      <td>0.150488</td>\n",
       "      <td>-2.293478</td>\n",
       "      <td>0.508540</td>\n",
       "      <td>3159.353760</td>\n",
       "      <td>...</td>\n",
       "      <td>921.882202</td>\n",
       "      <td>39.378828</td>\n",
       "      <td>81.567531</td>\n",
       "      <td>13.050796</td>\n",
       "      <td>4.0</td>\n",
       "      <td>0.565845</td>\n",
       "      <td>0.434155</td>\n",
       "      <td>-1.213494</td>\n",
       "      <td>0.000000</td>\n",
       "      <td>0.000000</td>\n",
       "    </tr>\n",
       "  </tbody>\n",
       "</table>\n",
       "<p>5 rows × 27 columns</p>\n",
       "</div>"
      ],
      "text/plain": [
       "          pt       eta       phi          m  ActiveArea  ActiveArea4vec_eta  \\\n",
       "0  99.859094 -0.342858  2.134567   8.093726    0.478719           -0.353398   \n",
       "1  45.352539 -0.454986 -2.667796   6.373730    0.498666           -0.469833   \n",
       "2  26.483807  1.440664  1.628155   5.337418    0.538559            1.447917   \n",
       "3  21.745404 -0.112350 -2.588387   4.982306    0.448799           -0.128731   \n",
       "4  87.560859 -2.752789 -2.295353  16.907717    0.518612           -2.782047   \n",
       "\n",
       "   ActiveArea4vec_m  ActiveArea4vec_phi  ActiveArea4vec_pt  AverageLArQF  ...  \\\n",
       "0          0.132767            2.131208           0.469330    108.751984  ...   \n",
       "1          0.140288           -2.671408           0.489406    837.354065  ...   \n",
       "2          0.156741            1.641177           0.527291    293.155884  ...   \n",
       "3          0.126130           -2.650139           0.442389    263.850281  ...   \n",
       "4          0.150488           -2.293478           0.508540   3159.353760  ...   \n",
       "\n",
       "   LeadingClusterCenterLambda  LeadingClusterPt  LeadingClusterSecondLambda  \\\n",
       "0                 1264.798706         25.836232                  343.890344   \n",
       "1                 1027.079468         19.099195                   54.438531   \n",
       "2                   95.400406          4.939110                    2.175471   \n",
       "3                   84.082619         10.380062                   20.607902   \n",
       "4                  921.882202         39.378828                   81.567531   \n",
       "\n",
       "   LeadingClusterSecondR  N90Constituents    EMFrac   HECFrac     Timing  \\\n",
       "0              43.809391              5.0  0.612864  0.000000   0.864557   \n",
       "1              72.658773              6.0  0.509103  0.000000  11.380662   \n",
       "2               5.361905              5.0  0.401359  0.000000   1.700485   \n",
       "3               6.131678              8.0  0.863900  0.000000   1.283107   \n",
       "4              13.050796              4.0  0.565845  0.434155  -1.213494   \n",
       "\n",
       "   OotFracClusters10  OotFracClusters5  \n",
       "0           0.007613          0.017692  \n",
       "1           0.495797          0.590913  \n",
       "2           0.188751          0.188751  \n",
       "3           0.090132          0.145812  \n",
       "4           0.000000          0.000000  \n",
       "\n",
       "[5 rows x 27 columns]"
      ]
     },
     "execution_count": 11,
     "metadata": {},
     "output_type": "execute_result"
    }
   ],
   "source": [
    "train.head()"
   ]
  },
  {
   "cell_type": "code",
   "execution_count": 4,
   "metadata": {},
   "outputs": [],
   "source": [
    "def plot_all(data, logy=False):\n",
    "    for key in data.keys():\n",
    "        plt.figure()\n",
    "        plt.hist(data[key], bins=200)\n",
    "        plt.xlabel(str(key))\n",
    "        plt.ylabel('Number of jets')\n",
    "        if logy:\n",
    "            plt.yscale('log')\n",
    "        else:\n",
    "            ms.sciy()"
   ]
  },
  {
   "cell_type": "code",
   "execution_count": 5,
   "metadata": {},
   "outputs": [],
   "source": [
    "plt.close('all')"
   ]
  },
  {
   "cell_type": "code",
   "execution_count": 6,
   "metadata": {
    "scrolled": true
   },
   "outputs": [
    {
     "ename": "NameError",
     "evalue": "name 'train' is not defined",
     "output_type": "error",
     "traceback": [
      "\u001b[0;31m---------------------------------------------------------------------------\u001b[0m",
      "\u001b[0;31mNameError\u001b[0m                                 Traceback (most recent call last)",
      "\u001b[0;32m<ipython-input-6-3c809215b750>\u001b[0m in \u001b[0;36m<module>\u001b[0;34m\u001b[0m\n\u001b[1;32m      1\u001b[0m \u001b[0mlogy\u001b[0m \u001b[0;34m=\u001b[0m \u001b[0;32mTrue\u001b[0m\u001b[0;34m\u001b[0m\u001b[0;34m\u001b[0m\u001b[0m\n\u001b[0;32m----> 2\u001b[0;31m \u001b[0mplot_all\u001b[0m\u001b[0;34m(\u001b[0m\u001b[0mtrain\u001b[0m\u001b[0;34m,\u001b[0m \u001b[0mlogy\u001b[0m\u001b[0;34m)\u001b[0m\u001b[0;34m\u001b[0m\u001b[0;34m\u001b[0m\u001b[0m\n\u001b[0m",
      "\u001b[0;31mNameError\u001b[0m: name 'train' is not defined"
     ]
    }
   ],
   "source": [
    "logy = True\n",
    "plot_all(train, logy)"
   ]
  },
  {
   "cell_type": "code",
   "execution_count": 7,
   "metadata": {},
   "outputs": [
    {
     "ename": "NameError",
     "evalue": "name 'train' is not defined",
     "output_type": "error",
     "traceback": [
      "\u001b[0;31m---------------------------------------------------------------------------\u001b[0m",
      "\u001b[0;31mNameError\u001b[0m                                 Traceback (most recent call last)",
      "\u001b[0;32m<ipython-input-7-f5bb823943b1>\u001b[0m in \u001b[0;36m<module>\u001b[0;34m\u001b[0m\n\u001b[0;32m----> 1\u001b[0;31m \u001b[0mcustom_normalized_train\u001b[0m\u001b[0;34m,\u001b[0m \u001b[0mcustom_normalized_test\u001b[0m \u001b[0;34m=\u001b[0m \u001b[0mutils\u001b[0m\u001b[0;34m.\u001b[0m\u001b[0mcustom_normalization\u001b[0m\u001b[0;34m(\u001b[0m\u001b[0mtrain\u001b[0m\u001b[0;34m,\u001b[0m \u001b[0mtest\u001b[0m\u001b[0;34m)\u001b[0m\u001b[0;34m\u001b[0m\u001b[0;34m\u001b[0m\u001b[0m\n\u001b[0m\u001b[1;32m      2\u001b[0m \u001b[0munnormalized_test\u001b[0m \u001b[0;34m=\u001b[0m \u001b[0mutils\u001b[0m\u001b[0;34m.\u001b[0m\u001b[0mcustom_unnormalize\u001b[0m\u001b[0;34m(\u001b[0m\u001b[0mcustom_normalized_test\u001b[0m\u001b[0;34m)\u001b[0m\u001b[0;34m\u001b[0m\u001b[0;34m\u001b[0m\u001b[0m\n",
      "\u001b[0;31mNameError\u001b[0m: name 'train' is not defined"
     ]
    }
   ],
   "source": [
    "custom_normalized_train, custom_normalized_test = utils.custom_normalization(train, test)\n",
    "unnormalized_test = utils.custom_unnormalize(custom_normalized_test)"
   ]
  },
  {
   "cell_type": "code",
   "execution_count": 8,
   "metadata": {},
   "outputs": [
    {
     "ename": "NameError",
     "evalue": "name 'test' is not defined",
     "output_type": "error",
     "traceback": [
      "\u001b[0;31m---------------------------------------------------------------------------\u001b[0m",
      "\u001b[0;31mNameError\u001b[0m                                 Traceback (most recent call last)",
      "\u001b[0;32m<ipython-input-8-d4ffc223c8cf>\u001b[0m in \u001b[0;36m<module>\u001b[0;34m\u001b[0m\n\u001b[1;32m      1\u001b[0m \u001b[0;31m# Checking if normalizing and unnormalizing works\u001b[0m\u001b[0;34m\u001b[0m\u001b[0;34m\u001b[0m\u001b[0;34m\u001b[0m\u001b[0m\n\u001b[0;32m----> 2\u001b[0;31m \u001b[0;34m(\u001b[0m\u001b[0mnp\u001b[0m\u001b[0;34m.\u001b[0m\u001b[0mabs\u001b[0m\u001b[0;34m(\u001b[0m\u001b[0mtest\u001b[0m \u001b[0;34m-\u001b[0m \u001b[0munnormalized_test\u001b[0m\u001b[0;34m)\u001b[0m \u001b[0;34m<\u001b[0m \u001b[0;36m1e-10\u001b[0m\u001b[0;34m)\u001b[0m\u001b[0;34m.\u001b[0m\u001b[0mall\u001b[0m\u001b[0;34m(\u001b[0m\u001b[0;34m)\u001b[0m\u001b[0;34m\u001b[0m\u001b[0;34m\u001b[0m\u001b[0m\n\u001b[0m",
      "\u001b[0;31mNameError\u001b[0m: name 'test' is not defined"
     ]
    }
   ],
   "source": [
    "# Checking if normalizing and unnormalizing works\n",
    "(np.abs(test - unnormalized_test) < 1e-10).all()"
   ]
  },
  {
   "cell_type": "code",
   "execution_count": 9,
   "metadata": {},
   "outputs": [],
   "source": [
    "#custom_normalized_train.to_pickle('../../processed_data/custom_normalized_train_10percent')\n",
    "#custom_normalized_test.to_pickle('../../processed_data/custom_normalized_test_10percent')"
   ]
  },
  {
   "cell_type": "code",
   "execution_count": 10,
   "metadata": {},
   "outputs": [],
   "source": [
    "#custom_normalized_train = pd.read_pickle('../../processed_data/aod/custom_normalized_train_10percent')\n",
    "#ustom_normalized_test = pd.read_pickle('../../processed_data/aod/custom_normalized_test_10percent')"
   ]
  },
  {
   "cell_type": "code",
   "execution_count": null,
   "metadata": {},
   "outputs": [],
   "source": []
  }
 ],
 "metadata": {
  "kernelspec": {
   "display_name": "Python 3",
   "language": "python",
   "name": "python3"
  },
  "language_info": {
   "codemirror_mode": {
    "name": "ipython",
    "version": 3
   },
   "file_extension": ".py",
   "mimetype": "text/x-python",
   "name": "python",
   "nbconvert_exporter": "python",
   "pygments_lexer": "ipython3",
   "version": "3.7.3"
  }
 },
 "nbformat": 4,
 "nbformat_minor": 2
}
